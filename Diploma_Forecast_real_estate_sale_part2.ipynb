{
  "cells": [
    {
      "cell_type": "markdown",
      "metadata": {
        "id": "mAqjZsPZbaEC"
      },
      "source": [
        "# **Курс Специализация Data Science Дипломный проект. Бриф учебного кейса**\n",
        "\n",
        "# «Модель прогнозирования стоимости жилья для агентства недвижимости»\n",
        "\n"
      ]
    },
    {
      "cell_type": "code",
      "execution_count": 2,
      "metadata": {
        "id": "I1voWLoacCqK"
      },
      "outputs": [],
      "source": [
        "#импорт библиотек\n",
        "import numpy as np\n",
        "import pandas as pd\n",
        "import matplotlib.pyplot as plt\n",
        "import plotly.express as px\n",
        "import seaborn as sns\n",
        "import category_encoders as ce\n",
        "\n",
        "from sklearn import linear_model\n",
        "from sklearn import metrics\n",
        "from sklearn import preprocessing\n",
        "from sklearn.model_selection import train_test_split\n",
        "from scipy import stats\n",
        "\n",
        "\n",
        "from sklearn import linear_model\n",
        "from sklearn import preprocessing\n",
        "from sklearn import tree\n",
        "from sklearn import ensemble\n",
        "from sklearn import metrics\n",
        "from sklearn import cluster\n",
        "from sklearn import feature_selection\n"
      ]
    },
    {
      "cell_type": "markdown",
      "metadata": {
        "id": "mdRMHmXRtFaG"
      },
      "source": [
        "# **Разведывательный анализ (EDA)**"
      ]
    },
    {
      "cell_type": "code",
      "execution_count": 3,
      "metadata": {
        "id": "c6j5KO0kcG5z"
      },
      "outputs": [],
      "source": [
        "data=pd.read_csv('new_features_data.csv')"
      ]
    },
    {
      "cell_type": "code",
      "execution_count": 4,
      "metadata": {
        "colab": {
          "base_uri": "https://localhost:8080/"
        },
        "id": "lgSoMWvUk38a",
        "outputId": "d44e1350-ef75-4f85-d12d-59a7c6f2ef7c"
      },
      "outputs": [
        {
          "data": {
            "text/plain": [
              "(340980, 22)"
            ]
          },
          "execution_count": 4,
          "metadata": {},
          "output_type": "execute_result"
        }
      ],
      "source": [
        "data.shape"
      ]
    },
    {
      "cell_type": "code",
      "execution_count": 5,
      "metadata": {
        "colab": {
          "base_uri": "https://localhost:8080/"
        },
        "id": "FhVDoWWGcY6M",
        "outputId": "19d98c7a-5f6d-45d6-f700-568e85b91cab"
      },
      "outputs": [
        {
          "name": "stdout",
          "output_type": "stream",
          "text": [
            "<class 'pandas.core.frame.DataFrame'>\n",
            "RangeIndex: 340980 entries, 0 to 340979\n",
            "Data columns (total 22 columns):\n",
            " #   Column                Non-Null Count   Dtype  \n",
            "---  ------                --------------   -----  \n",
            " 0   street                340980 non-null  object \n",
            " 1   baths                 340980 non-null  float64\n",
            " 2   fireplace             340980 non-null  bool   \n",
            " 3   sqft                  340980 non-null  float64\n",
            " 4   zipcode               340980 non-null  int64  \n",
            " 5   state                 340980 non-null  object \n",
            " 6   target                340980 non-null  int64  \n",
            " 7   private_pool          340980 non-null  bool   \n",
            " 8   status_new            340980 non-null  object \n",
            " 9   property_type         340980 non-null  object \n",
            " 10  beds_new              340980 non-null  float64\n",
            " 11  city                  340980 non-null  object \n",
            " 12  year built            340980 non-null  int64  \n",
            " 13  heating               340980 non-null  bool   \n",
            " 14  cooling               340980 non-null  bool   \n",
            " 15  parking               340980 non-null  bool   \n",
            " 16  lotsize               340980 non-null  object \n",
            " 17  year_built_group      340980 non-null  object \n",
            " 18  remodeled             340980 non-null  bool   \n",
            " 19  schools_high_rating   340980 non-null  bool   \n",
            " 20  mean_distance_school  340980 non-null  float64\n",
            " 21  school_info           340980 non-null  bool   \n",
            "dtypes: bool(8), float64(4), int64(3), object(7)\n",
            "memory usage: 39.0+ MB\n"
          ]
        }
      ],
      "source": [
        "data.info()"
      ]
    },
    {
      "cell_type": "code",
      "execution_count": 6,
      "metadata": {
        "colab": {
          "base_uri": "https://localhost:8080/",
          "height": 300
        },
        "id": "S5WEGOLDP2EE",
        "outputId": "adf425a4-69fa-4f22-cace-f019327f5d0b"
      },
      "outputs": [
        {
          "data": {
            "text/html": [
              "<div>\n",
              "<style scoped>\n",
              "    .dataframe tbody tr th:only-of-type {\n",
              "        vertical-align: middle;\n",
              "    }\n",
              "\n",
              "    .dataframe tbody tr th {\n",
              "        vertical-align: top;\n",
              "    }\n",
              "\n",
              "    .dataframe thead th {\n",
              "        text-align: right;\n",
              "    }\n",
              "</style>\n",
              "<table border=\"1\" class=\"dataframe\">\n",
              "  <thead>\n",
              "    <tr style=\"text-align: right;\">\n",
              "      <th></th>\n",
              "      <th>baths</th>\n",
              "      <th>sqft</th>\n",
              "      <th>zipcode</th>\n",
              "      <th>target</th>\n",
              "      <th>beds_new</th>\n",
              "      <th>year built</th>\n",
              "      <th>mean_distance_school</th>\n",
              "    </tr>\n",
              "  </thead>\n",
              "  <tbody>\n",
              "    <tr>\n",
              "      <th>count</th>\n",
              "      <td>340980.000000</td>\n",
              "      <td>3.409800e+05</td>\n",
              "      <td>340980.000000</td>\n",
              "      <td>3.409800e+05</td>\n",
              "      <td>340980.000000</td>\n",
              "      <td>340980.000000</td>\n",
              "      <td>340980.000000</td>\n",
              "    </tr>\n",
              "    <tr>\n",
              "      <th>mean</th>\n",
              "      <td>2.593199</td>\n",
              "      <td>1.398911e+04</td>\n",
              "      <td>52695.702041</td>\n",
              "      <td>5.455943e+05</td>\n",
              "      <td>2.530013</td>\n",
              "      <td>1759.166256</td>\n",
              "      <td>2.771207</td>\n",
              "    </tr>\n",
              "    <tr>\n",
              "      <th>std</th>\n",
              "      <td>19.743250</td>\n",
              "      <td>8.291949e+05</td>\n",
              "      <td>26796.780095</td>\n",
              "      <td>7.512573e+05</td>\n",
              "      <td>1.979115</td>\n",
              "      <td>623.873960</td>\n",
              "      <td>6.082158</td>\n",
              "    </tr>\n",
              "    <tr>\n",
              "      <th>min</th>\n",
              "      <td>0.000000</td>\n",
              "      <td>1.000000e+00</td>\n",
              "      <td>1103.000000</td>\n",
              "      <td>1.330000e+04</td>\n",
              "      <td>0.000000</td>\n",
              "      <td>-1.000000</td>\n",
              "      <td>-1.000000</td>\n",
              "    </tr>\n",
              "    <tr>\n",
              "      <th>25%</th>\n",
              "      <td>1.000000</td>\n",
              "      <td>1.334000e+03</td>\n",
              "      <td>33018.000000</td>\n",
              "      <td>2.000000e+05</td>\n",
              "      <td>1.000000</td>\n",
              "      <td>1945.000000</td>\n",
              "      <td>1.000000</td>\n",
              "    </tr>\n",
              "    <tr>\n",
              "      <th>50%</th>\n",
              "      <td>2.000000</td>\n",
              "      <td>1.920000e+03</td>\n",
              "      <td>37405.000000</td>\n",
              "      <td>3.290000e+05</td>\n",
              "      <td>3.000000</td>\n",
              "      <td>1979.000000</td>\n",
              "      <td>2.000000</td>\n",
              "    </tr>\n",
              "    <tr>\n",
              "      <th>75%</th>\n",
              "      <td>3.000000</td>\n",
              "      <td>2.860000e+03</td>\n",
              "      <td>77845.000000</td>\n",
              "      <td>5.750000e+05</td>\n",
              "      <td>4.000000</td>\n",
              "      <td>2006.000000</td>\n",
              "      <td>3.000000</td>\n",
              "    </tr>\n",
              "    <tr>\n",
              "      <th>max</th>\n",
              "      <td>750.000000</td>\n",
              "      <td>4.566025e+08</td>\n",
              "      <td>99338.000000</td>\n",
              "      <td>8.200000e+06</td>\n",
              "      <td>144.000000</td>\n",
              "      <td>2022.000000</td>\n",
              "      <td>1591.000000</td>\n",
              "    </tr>\n",
              "  </tbody>\n",
              "</table>\n",
              "</div>"
            ],
            "text/plain": [
              "               baths          sqft        zipcode        target  \\\n",
              "count  340980.000000  3.409800e+05  340980.000000  3.409800e+05   \n",
              "mean        2.593199  1.398911e+04   52695.702041  5.455943e+05   \n",
              "std        19.743250  8.291949e+05   26796.780095  7.512573e+05   \n",
              "min         0.000000  1.000000e+00    1103.000000  1.330000e+04   \n",
              "25%         1.000000  1.334000e+03   33018.000000  2.000000e+05   \n",
              "50%         2.000000  1.920000e+03   37405.000000  3.290000e+05   \n",
              "75%         3.000000  2.860000e+03   77845.000000  5.750000e+05   \n",
              "max       750.000000  4.566025e+08   99338.000000  8.200000e+06   \n",
              "\n",
              "            beds_new     year built  mean_distance_school  \n",
              "count  340980.000000  340980.000000         340980.000000  \n",
              "mean        2.530013    1759.166256              2.771207  \n",
              "std         1.979115     623.873960              6.082158  \n",
              "min         0.000000      -1.000000             -1.000000  \n",
              "25%         1.000000    1945.000000              1.000000  \n",
              "50%         3.000000    1979.000000              2.000000  \n",
              "75%         4.000000    2006.000000              3.000000  \n",
              "max       144.000000    2022.000000           1591.000000  "
            ]
          },
          "execution_count": 6,
          "metadata": {},
          "output_type": "execute_result"
        }
      ],
      "source": [
        "data.describe()"
      ]
    },
    {
      "cell_type": "code",
      "execution_count": 7,
      "metadata": {
        "colab": {
          "base_uri": "https://localhost:8080/",
          "height": 175
        },
        "id": "siiIqVTiDCHI",
        "outputId": "3f81d69e-7d7d-409d-e2fc-e2257ee5f257"
      },
      "outputs": [
        {
          "data": {
            "text/html": [
              "<div>\n",
              "<style scoped>\n",
              "    .dataframe tbody tr th:only-of-type {\n",
              "        vertical-align: middle;\n",
              "    }\n",
              "\n",
              "    .dataframe tbody tr th {\n",
              "        vertical-align: top;\n",
              "    }\n",
              "\n",
              "    .dataframe thead th {\n",
              "        text-align: right;\n",
              "    }\n",
              "</style>\n",
              "<table border=\"1\" class=\"dataframe\">\n",
              "  <thead>\n",
              "    <tr style=\"text-align: right;\">\n",
              "      <th></th>\n",
              "      <th>street</th>\n",
              "      <th>state</th>\n",
              "      <th>status_new</th>\n",
              "      <th>property_type</th>\n",
              "      <th>city</th>\n",
              "      <th>lotsize</th>\n",
              "      <th>year_built_group</th>\n",
              "    </tr>\n",
              "  </thead>\n",
              "  <tbody>\n",
              "    <tr>\n",
              "      <th>count</th>\n",
              "      <td>340980</td>\n",
              "      <td>340980</td>\n",
              "      <td>340980</td>\n",
              "      <td>340980</td>\n",
              "      <td>340980</td>\n",
              "      <td>340980</td>\n",
              "      <td>340980</td>\n",
              "    </tr>\n",
              "    <tr>\n",
              "      <th>unique</th>\n",
              "      <td>305053</td>\n",
              "      <td>36</td>\n",
              "      <td>14</td>\n",
              "      <td>10</td>\n",
              "      <td>1240</td>\n",
              "      <td>33970</td>\n",
              "      <td>11</td>\n",
              "    </tr>\n",
              "    <tr>\n",
              "      <th>top</th>\n",
              "      <td>no_address</td>\n",
              "      <td>FL</td>\n",
              "      <td>sale</td>\n",
              "      <td>single family</td>\n",
              "      <td>Houston</td>\n",
              "      <td>0</td>\n",
              "      <td>1950-1980</td>\n",
              "    </tr>\n",
              "    <tr>\n",
              "      <th>freq</th>\n",
              "      <td>1605</td>\n",
              "      <td>102291</td>\n",
              "      <td>199474</td>\n",
              "      <td>192566</td>\n",
              "      <td>23145</td>\n",
              "      <td>79276</td>\n",
              "      <td>78372</td>\n",
              "    </tr>\n",
              "  </tbody>\n",
              "</table>\n",
              "</div>"
            ],
            "text/plain": [
              "            street   state status_new  property_type     city lotsize  \\\n",
              "count       340980  340980     340980         340980   340980  340980   \n",
              "unique      305053      36         14             10     1240   33970   \n",
              "top     no_address      FL       sale  single family  Houston       0   \n",
              "freq          1605  102291     199474         192566    23145   79276   \n",
              "\n",
              "       year_built_group  \n",
              "count            340980  \n",
              "unique               11  \n",
              "top           1950-1980  \n",
              "freq              78372  "
            ]
          },
          "execution_count": 7,
          "metadata": {},
          "output_type": "execute_result"
        }
      ],
      "source": [
        "data.describe(include='object')"
      ]
    },
    {
      "cell_type": "code",
      "execution_count": 8,
      "metadata": {
        "colab": {
          "base_uri": "https://localhost:8080/"
        },
        "id": "_MBpfGnFQ9Sk",
        "outputId": "015cedbf-9f30-4b3c-ce97-52c16251606f"
      },
      "outputs": [
        {
          "name": "stdout",
          "output_type": "stream",
          "text": [
            "Число найденных дубликатов: 622\n"
          ]
        }
      ],
      "source": [
        "data_duplicates = data[data.duplicated(subset=list(data.columns))]\n",
        "print(f'Число найденных дубликатов: {data_duplicates.shape[0]}')\n",
        "#удаляем дубликаты\n",
        "data=data.drop_duplicates(subset=data_duplicates)"
      ]
    },
    {
      "cell_type": "code",
      "execution_count": 9,
      "metadata": {
        "id": "6r68hGL_55Pf"
      },
      "outputs": [],
      "source": [
        "temp_data=data.copy()"
      ]
    },
    {
      "cell_type": "code",
      "execution_count": 10,
      "metadata": {
        "colab": {
          "base_uri": "https://localhost:8080/"
        },
        "id": "MzjIgou1x9LK",
        "outputId": "605f73fe-7821-4db5-db26-1fb034a77b23"
      },
      "outputs": [
        {
          "name": "stdout",
          "output_type": "stream",
          "text": [
            "Числовые признаки: ['baths', 'sqft', 'zipcode', 'target', 'beds_new', 'year built', 'mean_distance_school']\n",
            "Категориальные признаки: ['street', 'state', 'status_new', 'property_type', 'city', 'lotsize', 'year_built_group']\n",
            "Булевные признаки: ['fireplace', 'private_pool', 'heating', 'cooling', 'parking', 'remodeled', 'schools_high_rating', 'school_info']\n"
          ]
        }
      ],
      "source": [
        "types = temp_data.dtypes\n",
        "num_features = list(types[(types != 'object')&(types != 'bool')].index)\n",
        "print(f'Числовые признаки:',num_features)\n",
        "\n",
        "cat_features = list(types[types == 'object'].index)\n",
        "print(f'Категориальные признаки:',cat_features)\n",
        "\n",
        "bool_features = list(types[types == 'bool'].index)\n",
        "print(f'Булевные признаки:',bool_features)\n"
      ]
    },
    {
      "cell_type": "markdown",
      "metadata": {
        "id": "_dY3O3xuffx2"
      },
      "source": [
        "### **Анализ количественных данных**"
      ]
    },
    {
      "cell_type": "markdown",
      "metadata": {
        "id": "DzyRgBUMDb3v"
      },
      "source": [
        "Проверим целевой признак - стоимость, для этого построим гистограмму и коробчатую диаграмму и проведем Тест Д’Агостино."
      ]
    },
    {
      "cell_type": "markdown",
      "metadata": {
        "id": "KjPBQD3gUiBX"
      },
      "source": [
        "#### 'target'"
      ]
    },
    {
      "cell_type": "code",
      "execution_count": 11,
      "metadata": {
        "colab": {
          "background_save": true,
          "base_uri": "https://localhost:8080/",
          "height": 517
        },
        "id": "w8qNlTtGDTU0",
        "outputId": "858b9d01-f076-4451-a08a-393644cf9531"
      },
      "outputs": [],
      "source": [
        "fig = px.histogram(\n",
        "    data_frame=data,\n",
        "    x='target',\n",
        "    #nbins=25,\n",
        "    title='Distribution of target',\n",
        "    width=700,\n",
        "    height=500,\n",
        "    marginal='box',\n",
        "    )\n",
        "#fig.show()"
      ]
    },
    {
      "cell_type": "markdown",
      "metadata": {},
      "source": [
        "<image src=\".\\images\\histogram_target.png\">"
      ]
    },
    {
      "cell_type": "markdown",
      "metadata": {},
      "source": []
    },
    {
      "cell_type": "markdown",
      "metadata": {
        "id": "Az8rIdqWHMhR"
      },
      "source": [
        "Распределение не похоже на нормальное, есть очень высокие значения стоимости, поэтому мы прологарифмируем целевой признак, и проверим его на нормальность."
      ]
    },
    {
      "cell_type": "code",
      "execution_count": 12,
      "metadata": {
        "colab": {
          "background_save": true,
          "base_uri": "https://localhost:8080/",
          "height": 517
        },
        "id": "6GTgKsWwH3Ri",
        "outputId": "f1221008-ed9e-4ad6-941e-32284bfbda10"
      },
      "outputs": [],
      "source": [
        "fig = px.histogram(\n",
        "    data_frame=data,\n",
        "    x= np.log1p(data['target']),\n",
        "    #nbins=25,\n",
        "    title='Distribution of target in logarithmic scale',\n",
        "    width=700,\n",
        "    height=500,\n",
        "    marginal='box'\n",
        "    )\n",
        "#fig.show('')"
      ]
    },
    {
      "cell_type": "markdown",
      "metadata": {},
      "source": [
        "<image src=\".\\images\\histogram_target_log.png\">"
      ]
    },
    {
      "cell_type": "code",
      "execution_count": 13,
      "metadata": {
        "colab": {
          "background_save": true,
          "base_uri": "https://localhost:8080/"
        },
        "id": "f47vJTTkIqiz",
        "outputId": "db48c8c9-c984-4553-fa85-d3d7a6c09db6"
      },
      "outputs": [
        {
          "name": "stdout",
          "output_type": "stream",
          "text": [
            "p=0.0000\n",
            "Данные не распределены нормально (мы отвергаем H0)\n"
          ]
        }
      ],
      "source": [
        "from scipy.stats import normaltest\n",
        "\n",
        "H0 = 'Данные распределены нормально'\n",
        "Ha = 'Данные не распределены нормально (мы отвергаем H0)'\n",
        "\n",
        "alpha = 0.05\n",
        "\n",
        "_, p = normaltest(np.log1p(data['target']))\n",
        "#normaltest возвращает двустороннюю вероятность для проверки гипотезы\n",
        "\n",
        "print('p=%.4f' % p)\n",
        "\n",
        "# Интерпретация\n",
        "\n",
        "if p > alpha/2:\n",
        "\tprint(H0)\n",
        "else:\n",
        "\tprint(Ha)"
      ]
    },
    {
      "cell_type": "markdown",
      "metadata": {
        "id": "yg_IqBPlH1bQ"
      },
      "source": [
        "На графике видно, что присутствуют высокие значения целевого признака в зонах с низкими значениями. Тест на нормальность, также показал, что данные не распределены нормально. Но логарифмирование однозначно улучшило распределение."
      ]
    },
    {
      "cell_type": "markdown",
      "metadata": {
        "id": "34VFzSWvJMhW"
      },
      "source": [
        "#### 'sqft'"
      ]
    },
    {
      "cell_type": "code",
      "execution_count": 14,
      "metadata": {
        "colab": {
          "background_save": true,
          "base_uri": "https://localhost:8080/",
          "height": 517
        },
        "id": "UYJ0xzOrISxe",
        "outputId": "4f739b9c-a393-42ab-94f3-8857783c3271"
      },
      "outputs": [],
      "source": [
        "fig = px.histogram(\n",
        "    data_frame=data,\n",
        "    x= np.log1p(data['sqft']),\n",
        "    #nbins=25,\n",
        "    title='Distribution of sqft in logarithmic scale',\n",
        "    width=700,\n",
        "    height=500,\n",
        "    marginal='box',\n",
        "    )\n",
        "#fig.show('')"
      ]
    },
    {
      "cell_type": "markdown",
      "metadata": {},
      "source": [
        "<image src=\".\\images\\histogram_sqft_log.png\">"
      ]
    },
    {
      "cell_type": "markdown",
      "metadata": {
        "id": "y35Timdu5QL3"
      },
      "source": [
        "На боксплоте отчетливо видно, что присутствуют выбросы, график тоже не похож на нормальный, поэтому определим выбросы методом Тьюки."
      ]
    },
    {
      "cell_type": "code",
      "execution_count": 15,
      "metadata": {
        "colab": {
          "background_save": true
        },
        "id": "mRhc1AIwKm0l"
      },
      "outputs": [],
      "source": [
        "#добавим функцию для обнаружения выбросов метод z-отклонений\n",
        "def outliers_z_score_mod(data, feature, left=3, right=3, log_scale=False):\n",
        "    if log_scale:\n",
        "        x = np.log(data[feature]+1)\n",
        "    else:\n",
        "        x = data[feature]\n",
        "    mu = x.mean()\n",
        "    sigma = x.std()\n",
        "    lower_bound = mu - left * sigma\n",
        "    upper_bound = mu + right * sigma\n",
        "    outliers = data[(x < lower_bound) | (x > upper_bound)]\n",
        "    cleaned = data[(x > lower_bound) & (x < upper_bound)]\n",
        "    return outliers, cleaned"
      ]
    },
    {
      "cell_type": "code",
      "execution_count": 16,
      "metadata": {
        "colab": {
          "background_save": true,
          "base_uri": "https://localhost:8080/"
        },
        "id": "S3S1zWYqMDVm",
        "outputId": "5b2991e4-04cf-40f8-dfb4-9bd5233264da"
      },
      "outputs": [
        {
          "name": "stdout",
          "output_type": "stream",
          "text": [
            "Число выбросов по методу Тьюки: 8365\n",
            "Результирующее число записей: 331993\n"
          ]
        }
      ],
      "source": [
        "outliers, cleaned = outliers_z_score_mod(temp_data,'sqft',log_scale=True)\n",
        "print(f'Число выбросов по методу Тьюки: {outliers.shape[0]}')\n",
        "print(f'Результирующее число записей: {cleaned.shape[0]}')"
      ]
    },
    {
      "cell_type": "code",
      "execution_count": 17,
      "metadata": {
        "colab": {
          "background_save": true,
          "base_uri": "https://localhost:8080/"
        },
        "id": "9-c2OzZD82kD",
        "outputId": "3e49b49b-dfb1-4a7b-a5c6-42d735bcc00e"
      },
      "outputs": [
        {
          "name": "stdout",
          "output_type": "stream",
          "text": [
            "Максимальная граница sqft:36843.0\n",
            "Минимальная граница sqft:136.0\n",
            "Максимальная граница target:8200000\n",
            "Минимальная  граница target:13300\n"
          ]
        }
      ],
      "source": [
        "data_outliers=outliers[['target','street','property_type','sqft','status_new','state','beds_new','baths']].sort_values('sqft')\n",
        "data_cleaned=cleaned[['target','street','property_type','sqft','status_new','state','beds_new','baths']].sort_values('sqft')\n",
        "print(f\"Максимальная граница sqft:{cleaned['sqft'].max()}\")\n",
        "print(f\"Минимальная граница sqft:{cleaned['sqft'].min()}\")\n",
        "print(f\"Максимальная граница target:{cleaned['target'].max()}\")\n",
        "print(f\"Минимальная  граница target:{cleaned['target'].min()}\")"
      ]
    },
    {
      "cell_type": "code",
      "execution_count": 18,
      "metadata": {
        "colab": {
          "background_save": true
        },
        "id": "4SJzIFOUKkoo"
      },
      "outputs": [],
      "source": [
        "# удалим выбросы\n",
        "temp_data=temp_data.drop(outliers.index)"
      ]
    },
    {
      "cell_type": "code",
      "execution_count": 19,
      "metadata": {
        "colab": {
          "background_save": true,
          "base_uri": "https://localhost:8080/",
          "height": 537
        },
        "id": "FMxzg0XqQA4c",
        "outputId": "c539f9c8-7fb9-4690-929b-1bacfc600a79"
      },
      "outputs": [],
      "source": [
        "fig = px.scatter(\n",
        "    data_frame=data_cleaned,\n",
        "    x='sqft',\n",
        "    y='target',\n",
        "    title='Distribution of sqft',\n",
        "    width=700,\n",
        "    height=400\n",
        "    )\n",
        "#fig.show('')"
      ]
    },
    {
      "cell_type": "markdown",
      "metadata": {},
      "source": [
        "<image src=\".\\images\\scatter_sqft.png\">"
      ]
    },
    {
      "cell_type": "code",
      "execution_count": 20,
      "metadata": {
        "colab": {
          "background_save": true,
          "base_uri": "https://localhost:8080/",
          "height": 463
        },
        "id": "SdUV78MlP1Ui",
        "outputId": "38d71ad7-cb12-4651-95ab-ad620efdb462"
      },
      "outputs": [
        {
          "data": {
            "text/html": [
              "<div>\n",
              "<style scoped>\n",
              "    .dataframe tbody tr th:only-of-type {\n",
              "        vertical-align: middle;\n",
              "    }\n",
              "\n",
              "    .dataframe tbody tr th {\n",
              "        vertical-align: top;\n",
              "    }\n",
              "\n",
              "    .dataframe thead th {\n",
              "        text-align: right;\n",
              "    }\n",
              "</style>\n",
              "<table border=\"1\" class=\"dataframe\">\n",
              "  <thead>\n",
              "    <tr style=\"text-align: right;\">\n",
              "      <th></th>\n",
              "      <th>street</th>\n",
              "      <th>baths</th>\n",
              "      <th>fireplace</th>\n",
              "      <th>sqft</th>\n",
              "      <th>zipcode</th>\n",
              "      <th>state</th>\n",
              "      <th>target</th>\n",
              "      <th>private_pool</th>\n",
              "      <th>status_new</th>\n",
              "      <th>property_type</th>\n",
              "      <th>...</th>\n",
              "      <th>year built</th>\n",
              "      <th>heating</th>\n",
              "      <th>cooling</th>\n",
              "      <th>parking</th>\n",
              "      <th>lotsize</th>\n",
              "      <th>year_built_group</th>\n",
              "      <th>remodeled</th>\n",
              "      <th>schools_high_rating</th>\n",
              "      <th>mean_distance_school</th>\n",
              "      <th>school_info</th>\n",
              "    </tr>\n",
              "  </thead>\n",
              "  <tbody>\n",
              "    <tr>\n",
              "      <th>237146</th>\n",
              "      <td>9880 SW 87th Ave</td>\n",
              "      <td>6.0</td>\n",
              "      <td>False</td>\n",
              "      <td>328.0</td>\n",
              "      <td>33176</td>\n",
              "      <td>FL</td>\n",
              "      <td>2040140</td>\n",
              "      <td>True</td>\n",
              "      <td>other</td>\n",
              "      <td>single family</td>\n",
              "      <td>...</td>\n",
              "      <td>2017</td>\n",
              "      <td>True</td>\n",
              "      <td>True</td>\n",
              "      <td>True</td>\n",
              "      <td>'0.75 acres'</td>\n",
              "      <td>2000-2022</td>\n",
              "      <td>True</td>\n",
              "      <td>True</td>\n",
              "      <td>6.0</td>\n",
              "      <td>True</td>\n",
              "    </tr>\n",
              "    <tr>\n",
              "      <th>134820</th>\n",
              "      <td>3274 Oakdell Rd</td>\n",
              "      <td>0.0</td>\n",
              "      <td>False</td>\n",
              "      <td>334.0</td>\n",
              "      <td>91604</td>\n",
              "      <td>CA</td>\n",
              "      <td>2299000</td>\n",
              "      <td>True</td>\n",
              "      <td>sale</td>\n",
              "      <td>lot/land</td>\n",
              "      <td>...</td>\n",
              "      <td>1942</td>\n",
              "      <td>True</td>\n",
              "      <td>False</td>\n",
              "      <td>False</td>\n",
              "      <td>'0.62 acres'</td>\n",
              "      <td>1920-1950</td>\n",
              "      <td>False</td>\n",
              "      <td>True</td>\n",
              "      <td>2.0</td>\n",
              "      <td>True</td>\n",
              "    </tr>\n",
              "    <tr>\n",
              "      <th>184768</th>\n",
              "      <td>4459 Fanuel St</td>\n",
              "      <td>0.0</td>\n",
              "      <td>False</td>\n",
              "      <td>380.0</td>\n",
              "      <td>92109</td>\n",
              "      <td>CA</td>\n",
              "      <td>7995000</td>\n",
              "      <td>False</td>\n",
              "      <td>sale</td>\n",
              "      <td>multi family</td>\n",
              "      <td>...</td>\n",
              "      <td>1947</td>\n",
              "      <td>False</td>\n",
              "      <td>False</td>\n",
              "      <td>False</td>\n",
              "      <td>'0.36 acres'</td>\n",
              "      <td>1920-1950</td>\n",
              "      <td>False</td>\n",
              "      <td>True</td>\n",
              "      <td>1.0</td>\n",
              "      <td>True</td>\n",
              "    </tr>\n",
              "    <tr>\n",
              "      <th>7324</th>\n",
              "      <td>FM 1774 NW</td>\n",
              "      <td>0.0</td>\n",
              "      <td>False</td>\n",
              "      <td>400.0</td>\n",
              "      <td>77354</td>\n",
              "      <td>TX</td>\n",
              "      <td>3933000</td>\n",
              "      <td>False</td>\n",
              "      <td>sale</td>\n",
              "      <td>single family</td>\n",
              "      <td>...</td>\n",
              "      <td>-1</td>\n",
              "      <td>False</td>\n",
              "      <td>False</td>\n",
              "      <td>True</td>\n",
              "      <td>'52.44 acres'</td>\n",
              "      <td>unknown</td>\n",
              "      <td>False</td>\n",
              "      <td>True</td>\n",
              "      <td>2.0</td>\n",
              "      <td>True</td>\n",
              "    </tr>\n",
              "    <tr>\n",
              "      <th>157969</th>\n",
              "      <td>249 Waverly Pl</td>\n",
              "      <td>0.0</td>\n",
              "      <td>False</td>\n",
              "      <td>460.0</td>\n",
              "      <td>10014</td>\n",
              "      <td>NY</td>\n",
              "      <td>4995000</td>\n",
              "      <td>False</td>\n",
              "      <td>active</td>\n",
              "      <td>other</td>\n",
              "      <td>...</td>\n",
              "      <td>-1</td>\n",
              "      <td>False</td>\n",
              "      <td>False</td>\n",
              "      <td>False</td>\n",
              "      <td>'460 sq. ft.'</td>\n",
              "      <td>unknown</td>\n",
              "      <td>True</td>\n",
              "      <td>True</td>\n",
              "      <td>1.0</td>\n",
              "      <td>True</td>\n",
              "    </tr>\n",
              "  </tbody>\n",
              "</table>\n",
              "<p>5 rows × 22 columns</p>\n",
              "</div>"
            ],
            "text/plain": [
              "                  street  baths  fireplace   sqft  zipcode state   target  \\\n",
              "237146  9880 SW 87th Ave    6.0      False  328.0    33176    FL  2040140   \n",
              "134820   3274 Oakdell Rd    0.0      False  334.0    91604    CA  2299000   \n",
              "184768    4459 Fanuel St    0.0      False  380.0    92109    CA  7995000   \n",
              "7324          FM 1774 NW    0.0      False  400.0    77354    TX  3933000   \n",
              "157969   249 Waverly Pl     0.0      False  460.0    10014    NY  4995000   \n",
              "\n",
              "        private_pool status_new  property_type  ...  year built heating  \\\n",
              "237146          True      other  single family  ...        2017    True   \n",
              "134820          True       sale       lot/land  ...        1942    True   \n",
              "184768         False       sale   multi family  ...        1947   False   \n",
              "7324           False       sale  single family  ...          -1   False   \n",
              "157969         False     active          other  ...          -1   False   \n",
              "\n",
              "        cooling  parking        lotsize  year_built_group remodeled  \\\n",
              "237146     True     True   '0.75 acres'         2000-2022      True   \n",
              "134820    False    False   '0.62 acres'         1920-1950     False   \n",
              "184768    False    False   '0.36 acres'         1920-1950     False   \n",
              "7324      False     True  '52.44 acres'           unknown     False   \n",
              "157969    False    False  '460 sq. ft.'           unknown      True   \n",
              "\n",
              "       schools_high_rating  mean_distance_school  school_info  \n",
              "237146                True                   6.0         True  \n",
              "134820                True                   2.0         True  \n",
              "184768                True                   1.0         True  \n",
              "7324                  True                   2.0         True  \n",
              "157969                True                   1.0         True  \n",
              "\n",
              "[5 rows x 22 columns]"
            ]
          },
          "execution_count": 20,
          "metadata": {},
          "output_type": "execute_result"
        }
      ],
      "source": [
        "mask_cleaned_1=(temp_data['sqft']<1000)&(temp_data['target']>2000000)\n",
        "temp_data[mask_cleaned_1].sort_values(['sqft','target'], ascending=[True,False]).head()"
      ]
    },
    {
      "cell_type": "code",
      "execution_count": 21,
      "metadata": {
        "colab": {
          "background_save": true
        },
        "id": "C7s21cuSf0WF"
      },
      "outputs": [],
      "source": [
        "temp_data = temp_data[~mask_cleaned_1]"
      ]
    },
    {
      "cell_type": "code",
      "execution_count": 22,
      "metadata": {
        "colab": {
          "background_save": true,
          "base_uri": "https://localhost:8080/",
          "height": 437
        },
        "id": "TZD6h_8o0_q5",
        "outputId": "238efd2d-a670-4b2a-ba43-cef99f245d08"
      },
      "outputs": [],
      "source": [
        "fig = px.box(\n",
        "    data_frame= temp_data,\n",
        "    x='sqft',\n",
        "    y='property_type',\n",
        "    color='property_type',\n",
        "    title='Distribution of sqft by property_type',\n",
        "    width=900,\n",
        "    height=400\n",
        ")\n",
        "#fig.show()"
      ]
    },
    {
      "cell_type": "markdown",
      "metadata": {},
      "source": [
        "<image src=\".\\images\\box_type.png\">"
      ]
    },
    {
      "cell_type": "markdown",
      "metadata": {
        "id": "dJQH9bH108Vl"
      },
      "source": [
        " Мы провели очистку  от выбросов, большая часть выбросов составляли земельные участки. Также мы удалили аномалии в данных: высокие цены (более 2 млн долл) за маленькую площадь (до 1000 кв.ф.)."
      ]
    },
    {
      "cell_type": "code",
      "execution_count": 23,
      "metadata": {
        "colab": {
          "background_save": true,
          "base_uri": "https://localhost:8080/"
        },
        "id": "Uttg9QK3CCZK",
        "outputId": "8f9be280-af5d-4ec3-c33c-8e7e0669bec3"
      },
      "outputs": [
        {
          "name": "stdout",
          "output_type": "stream",
          "text": [
            "Количество удаленных строк 8450, % от общего числа 2.48%\n"
          ]
        }
      ],
      "source": [
        "len_start=data.shape[0]\n",
        "len_1=temp_data.shape[0]\n",
        "print(f'Количество удаленных строк {len_start-len_1}, % от общего числа {(len_start-len_1)/len_start*100:.2f}%')"
      ]
    },
    {
      "cell_type": "markdown",
      "metadata": {
        "id": "X2zPyQViUoL6"
      },
      "source": [
        "#### 'baths' и 'beds'"
      ]
    },
    {
      "cell_type": "code",
      "execution_count": 24,
      "metadata": {
        "colab": {
          "background_save": true
        },
        "id": "qJ8sXBl7vCTt"
      },
      "outputs": [],
      "source": [
        "temp_data = temp_data.rename(columns={'beds_new': 'beds'})"
      ]
    },
    {
      "cell_type": "code",
      "execution_count": 25,
      "metadata": {
        "colab": {
          "background_save": true,
          "base_uri": "https://localhost:8080/",
          "height": 517
        },
        "id": "pd7VY-8yJ9D3",
        "outputId": "7009f954-2a78-4e3e-b95c-2f503727bbeb"
      },
      "outputs": [],
      "source": [
        "fig = px.histogram(\n",
        "    data_frame=temp_data,\n",
        "    x= 'baths',\n",
        "    #nbins=25,\n",
        "    title='Distribution of baths',\n",
        "    width=700,\n",
        "    height=500,\n",
        "    marginal='box',\n",
        "    )\n",
        "#fig.show('')"
      ]
    },
    {
      "cell_type": "markdown",
      "metadata": {},
      "source": [
        "<image src=\".\\images\\histogram_beds.png\">"
      ]
    },
    {
      "cell_type": "code",
      "execution_count": 26,
      "metadata": {
        "colab": {
          "background_save": true,
          "base_uri": "https://localhost:8080/",
          "height": 517
        },
        "id": "EFzXnFNiKvBi",
        "outputId": "925afe6d-90d6-428e-9a0d-8b3c355d64be"
      },
      "outputs": [],
      "source": [
        "fig = px.histogram(\n",
        "    data_frame=temp_data,\n",
        "    x= 'beds',\n",
        "    #nbins=25,\n",
        "    title='Distribution of beds',\n",
        "    width=700,\n",
        "    height=500,\n",
        "    marginal='box',\n",
        "    )\n",
        "#fig.show('')"
      ]
    },
    {
      "cell_type": "markdown",
      "metadata": {},
      "source": [
        "<image src=\".\\images\\histogram_baths.png\">"
      ]
    },
    {
      "cell_type": "markdown",
      "metadata": {
        "id": "oy5-EJMrwJaA"
      },
      "source": [
        "На графике распределения ванных комнат видно присутствие выбросов. Если сравнить графики между собой, можно предположить, что количество ванных комнат больше 60  - это аномалии, т.к. количеству ванных комнат меньше либо равно количеству спален, поэтому такие записи удалим."
      ]
    },
    {
      "cell_type": "code",
      "execution_count": 27,
      "metadata": {
        "colab": {
          "background_save": true,
          "base_uri": "https://localhost:8080/",
          "height": 498
        },
        "id": "Bqu9l4SD0cXA",
        "outputId": "dccfd278-717f-401c-8338-f8399ff06a49"
      },
      "outputs": [
        {
          "data": {
            "text/html": [
              "<div>\n",
              "<style scoped>\n",
              "    .dataframe tbody tr th:only-of-type {\n",
              "        vertical-align: middle;\n",
              "    }\n",
              "\n",
              "    .dataframe tbody tr th {\n",
              "        vertical-align: top;\n",
              "    }\n",
              "\n",
              "    .dataframe thead th {\n",
              "        text-align: right;\n",
              "    }\n",
              "</style>\n",
              "<table border=\"1\" class=\"dataframe\">\n",
              "  <thead>\n",
              "    <tr style=\"text-align: right;\">\n",
              "      <th></th>\n",
              "      <th>street</th>\n",
              "      <th>baths</th>\n",
              "      <th>fireplace</th>\n",
              "      <th>sqft</th>\n",
              "      <th>zipcode</th>\n",
              "      <th>state</th>\n",
              "      <th>target</th>\n",
              "      <th>private_pool</th>\n",
              "      <th>status_new</th>\n",
              "      <th>property_type</th>\n",
              "      <th>...</th>\n",
              "      <th>year built</th>\n",
              "      <th>heating</th>\n",
              "      <th>cooling</th>\n",
              "      <th>parking</th>\n",
              "      <th>lotsize</th>\n",
              "      <th>year_built_group</th>\n",
              "      <th>remodeled</th>\n",
              "      <th>schools_high_rating</th>\n",
              "      <th>mean_distance_school</th>\n",
              "      <th>school_info</th>\n",
              "    </tr>\n",
              "  </thead>\n",
              "  <tbody>\n",
              "    <tr>\n",
              "      <th>1005</th>\n",
              "      <td>3624 Douglas Ave</td>\n",
              "      <td>750.0</td>\n",
              "      <td>True</td>\n",
              "      <td>1758.0</td>\n",
              "      <td>75219</td>\n",
              "      <td>TX</td>\n",
              "      <td>499000</td>\n",
              "      <td>False</td>\n",
              "      <td>active</td>\n",
              "      <td>other</td>\n",
              "      <td>...</td>\n",
              "      <td>1993</td>\n",
              "      <td>False</td>\n",
              "      <td>True</td>\n",
              "      <td>False</td>\n",
              "      <td>'2,200 sq. ft.'</td>\n",
              "      <td>1980-2000</td>\n",
              "      <td>True</td>\n",
              "      <td>True</td>\n",
              "      <td>2.0</td>\n",
              "      <td>True</td>\n",
              "    </tr>\n",
              "    <tr>\n",
              "      <th>1837</th>\n",
              "      <td>920 I St NW #411</td>\n",
              "      <td>750.0</td>\n",
              "      <td>False</td>\n",
              "      <td>1367.0</td>\n",
              "      <td>20001</td>\n",
              "      <td>DC</td>\n",
              "      <td>1499000</td>\n",
              "      <td>False</td>\n",
              "      <td>active</td>\n",
              "      <td>other</td>\n",
              "      <td>...</td>\n",
              "      <td>2013</td>\n",
              "      <td>False</td>\n",
              "      <td>False</td>\n",
              "      <td>False</td>\n",
              "      <td>0</td>\n",
              "      <td>2000-2022</td>\n",
              "      <td>False</td>\n",
              "      <td>True</td>\n",
              "      <td>1.0</td>\n",
              "      <td>True</td>\n",
              "    </tr>\n",
              "    <tr>\n",
              "      <th>3255</th>\n",
              "      <td>601 W 11th Ave #409</td>\n",
              "      <td>750.0</td>\n",
              "      <td>False</td>\n",
              "      <td>873.0</td>\n",
              "      <td>80204</td>\n",
              "      <td>CO</td>\n",
              "      <td>348900</td>\n",
              "      <td>False</td>\n",
              "      <td>active</td>\n",
              "      <td>other</td>\n",
              "      <td>...</td>\n",
              "      <td>1981</td>\n",
              "      <td>True</td>\n",
              "      <td>True</td>\n",
              "      <td>False</td>\n",
              "      <td>0</td>\n",
              "      <td>1980-2000</td>\n",
              "      <td>False</td>\n",
              "      <td>False</td>\n",
              "      <td>1.0</td>\n",
              "      <td>True</td>\n",
              "    </tr>\n",
              "    <tr>\n",
              "      <th>6841</th>\n",
              "      <td>1260 Xavier St</td>\n",
              "      <td>750.0</td>\n",
              "      <td>False</td>\n",
              "      <td>1864.0</td>\n",
              "      <td>80204</td>\n",
              "      <td>CO</td>\n",
              "      <td>560000</td>\n",
              "      <td>False</td>\n",
              "      <td>active</td>\n",
              "      <td>other</td>\n",
              "      <td>...</td>\n",
              "      <td>1936</td>\n",
              "      <td>True</td>\n",
              "      <td>False</td>\n",
              "      <td>False</td>\n",
              "      <td>0</td>\n",
              "      <td>1920-1950</td>\n",
              "      <td>True</td>\n",
              "      <td>False</td>\n",
              "      <td>1.0</td>\n",
              "      <td>True</td>\n",
              "    </tr>\n",
              "    <tr>\n",
              "      <th>6963</th>\n",
              "      <td>3314 Douglas Ave Unit 202D</td>\n",
              "      <td>750.0</td>\n",
              "      <td>True</td>\n",
              "      <td>1336.0</td>\n",
              "      <td>75219</td>\n",
              "      <td>TX</td>\n",
              "      <td>285000</td>\n",
              "      <td>False</td>\n",
              "      <td>active</td>\n",
              "      <td>other</td>\n",
              "      <td>...</td>\n",
              "      <td>1984</td>\n",
              "      <td>False</td>\n",
              "      <td>True</td>\n",
              "      <td>False</td>\n",
              "      <td>0</td>\n",
              "      <td>1980-2000</td>\n",
              "      <td>False</td>\n",
              "      <td>True</td>\n",
              "      <td>2.0</td>\n",
              "      <td>True</td>\n",
              "    </tr>\n",
              "  </tbody>\n",
              "</table>\n",
              "<p>5 rows × 22 columns</p>\n",
              "</div>"
            ],
            "text/plain": [
              "                           street  baths  fireplace    sqft  zipcode state  \\\n",
              "1005            3624 Douglas Ave   750.0       True  1758.0    75219    TX   \n",
              "1837            920 I St NW #411   750.0      False  1367.0    20001    DC   \n",
              "3255         601 W 11th Ave #409   750.0      False   873.0    80204    CO   \n",
              "6841              1260 Xavier St   750.0      False  1864.0    80204    CO   \n",
              "6963  3314 Douglas Ave Unit 202D   750.0       True  1336.0    75219    TX   \n",
              "\n",
              "       target  private_pool status_new property_type  ...  year built heating  \\\n",
              "1005   499000         False     active         other  ...        1993   False   \n",
              "1837  1499000         False     active         other  ...        2013   False   \n",
              "3255   348900         False     active         other  ...        1981    True   \n",
              "6841   560000         False     active         other  ...        1936    True   \n",
              "6963   285000         False     active         other  ...        1984   False   \n",
              "\n",
              "      cooling  parking          lotsize  year_built_group remodeled  \\\n",
              "1005     True    False  '2,200 sq. ft.'         1980-2000      True   \n",
              "1837    False    False                0         2000-2022     False   \n",
              "3255     True    False                0         1980-2000     False   \n",
              "6841    False    False                0         1920-1950      True   \n",
              "6963     True    False                0         1980-2000     False   \n",
              "\n",
              "     schools_high_rating  mean_distance_school  school_info  \n",
              "1005                True                   2.0         True  \n",
              "1837                True                   1.0         True  \n",
              "3255               False                   1.0         True  \n",
              "6841               False                   1.0         True  \n",
              "6963                True                   2.0         True  \n",
              "\n",
              "[5 rows x 22 columns]"
            ]
          },
          "execution_count": 27,
          "metadata": {},
          "output_type": "execute_result"
        }
      ],
      "source": [
        "temp_data[temp_data['baths'] >60].head()"
      ]
    },
    {
      "cell_type": "code",
      "execution_count": 28,
      "metadata": {
        "colab": {
          "background_save": true
        },
        "id": "qq6A4HthI-s3"
      },
      "outputs": [],
      "source": [
        "# удалим записи с выбросами в признаке 'baths' и 'beds'\n",
        "\n",
        "temp_data=temp_data[temp_data['baths'] <60]\n",
        "temp_data=temp_data[temp_data['beds'] <60]\n"
      ]
    },
    {
      "cell_type": "code",
      "execution_count": 29,
      "metadata": {
        "colab": {
          "background_save": true,
          "base_uri": "https://localhost:8080/",
          "height": 517
        },
        "id": "P0-UTe7S6nds",
        "outputId": "9cde1e5a-d2ff-44a4-823c-585a1320c05e"
      },
      "outputs": [],
      "source": [
        "fig = px.scatter(\n",
        "    data_frame=temp_data,\n",
        "    x='sqft',\n",
        "    y='baths',\n",
        "    title='Distribution of baths by sqft',\n",
        "    width=700,\n",
        "    height=500\n",
        "    )\n",
        "#fig.show('')"
      ]
    },
    {
      "cell_type": "markdown",
      "metadata": {},
      "source": [
        "<image src=\".\\images\\scatter_baths.png\">"
      ]
    },
    {
      "cell_type": "markdown",
      "metadata": {
        "id": "WkQ82mR3SjYz"
      },
      "source": [
        "Из графика видно, что присутствуют аномалии - это большое количество ванных комнат:больше 12 на маленькой площади около 5000 кв.ф., также очистим от строк больше 40 ванных комнат."
      ]
    },
    {
      "cell_type": "code",
      "execution_count": 30,
      "metadata": {
        "colab": {
          "background_save": true
        },
        "id": "74qtg31FRjVt"
      },
      "outputs": [],
      "source": [
        "# удалим аномалии\n",
        "mask_baths=((temp_data['baths']>12)&(temp_data['sqft']<5000))|(temp_data['baths']>30)\n",
        "temp_data=temp_data[~mask_baths]\n"
      ]
    },
    {
      "cell_type": "code",
      "execution_count": 31,
      "metadata": {
        "colab": {
          "background_save": true,
          "base_uri": "https://localhost:8080/",
          "height": 517
        },
        "id": "WtMTSIlR7R9Q",
        "outputId": "6d2861d3-8ee0-4913-873e-b93f56fccc39"
      },
      "outputs": [],
      "source": [
        "fig = px.scatter(\n",
        "    data_frame=temp_data,\n",
        "    x='sqft',\n",
        "    y='beds',\n",
        "    title='Distribution of beds by sqft',\n",
        "    width=700,\n",
        "    height=500\n",
        "    )\n",
        "#fig.show('')"
      ]
    },
    {
      "cell_type": "markdown",
      "metadata": {},
      "source": [
        "<image src=\".\\images\\scatter_beds.png\">"
      ]
    },
    {
      "cell_type": "code",
      "execution_count": 32,
      "metadata": {
        "colab": {
          "background_save": true
        },
        "id": "CITamScZVurH"
      },
      "outputs": [],
      "source": [
        "# удалим аномалии\n",
        "mask_beds=((temp_data['beds']>12)&(temp_data['sqft']<2000))|(temp_data['beds']>40)\n",
        "temp_data=temp_data[~mask_beds]\n"
      ]
    },
    {
      "cell_type": "code",
      "execution_count": 33,
      "metadata": {
        "colab": {
          "background_save": true,
          "base_uri": "https://localhost:8080/"
        },
        "id": "yBUNPXfs07Tt",
        "outputId": "90bb282f-2dc6-4da8-9a34-3ebe9a969684"
      },
      "outputs": [
        {
          "data": {
            "text/plain": [
              "(60302, 22)"
            ]
          },
          "execution_count": 33,
          "metadata": {},
          "output_type": "execute_result"
        }
      ],
      "source": [
        "# проверим записи с нулевыми значениями beds и baths\n",
        "mask_null=(temp_data['beds']==0)&(temp_data['baths']==0)\n",
        "temp_data[mask_null].shape\n"
      ]
    },
    {
      "cell_type": "code",
      "execution_count": 34,
      "metadata": {
        "colab": {
          "background_save": true,
          "base_uri": "https://localhost:8080/",
          "height": 363
        },
        "id": "5cGb_YV7uR8s",
        "outputId": "31ef91a8-c162-4c1b-e064-1229d1981eab"
      },
      "outputs": [
        {
          "data": {
            "text/html": [
              "<div>\n",
              "<style scoped>\n",
              "    .dataframe tbody tr th:only-of-type {\n",
              "        vertical-align: middle;\n",
              "    }\n",
              "\n",
              "    .dataframe tbody tr th {\n",
              "        vertical-align: top;\n",
              "    }\n",
              "\n",
              "    .dataframe thead th {\n",
              "        text-align: right;\n",
              "    }\n",
              "</style>\n",
              "<table border=\"1\" class=\"dataframe\">\n",
              "  <thead>\n",
              "    <tr style=\"text-align: right;\">\n",
              "      <th></th>\n",
              "      <th>property_type</th>\n",
              "      <th>baths</th>\n",
              "    </tr>\n",
              "  </thead>\n",
              "  <tbody>\n",
              "    <tr>\n",
              "      <th>7</th>\n",
              "      <td>other</td>\n",
              "      <td>31384</td>\n",
              "    </tr>\n",
              "    <tr>\n",
              "      <th>4</th>\n",
              "      <td>lot/land</td>\n",
              "      <td>9765</td>\n",
              "    </tr>\n",
              "    <tr>\n",
              "      <th>8</th>\n",
              "      <td>single family</td>\n",
              "      <td>8930</td>\n",
              "    </tr>\n",
              "    <tr>\n",
              "      <th>0</th>\n",
              "      <td>condo</td>\n",
              "      <td>5239</td>\n",
              "    </tr>\n",
              "    <tr>\n",
              "      <th>6</th>\n",
              "      <td>multi family</td>\n",
              "      <td>1640</td>\n",
              "    </tr>\n",
              "    <tr>\n",
              "      <th>3</th>\n",
              "      <td>farm</td>\n",
              "      <td>1614</td>\n",
              "    </tr>\n",
              "    <tr>\n",
              "      <th>2</th>\n",
              "      <td>coop</td>\n",
              "      <td>1022</td>\n",
              "    </tr>\n",
              "    <tr>\n",
              "      <th>9</th>\n",
              "      <td>townhouse</td>\n",
              "      <td>541</td>\n",
              "    </tr>\n",
              "    <tr>\n",
              "      <th>5</th>\n",
              "      <td>mobile</td>\n",
              "      <td>151</td>\n",
              "    </tr>\n",
              "    <tr>\n",
              "      <th>1</th>\n",
              "      <td>condo/townhome/row home/co-op</td>\n",
              "      <td>16</td>\n",
              "    </tr>\n",
              "  </tbody>\n",
              "</table>\n",
              "</div>"
            ],
            "text/plain": [
              "                   property_type  baths\n",
              "7                          other  31384\n",
              "4                       lot/land   9765\n",
              "8                  single family   8930\n",
              "0                          condo   5239\n",
              "6                   multi family   1640\n",
              "3                           farm   1614\n",
              "2                           coop   1022\n",
              "9                      townhouse    541\n",
              "5                         mobile    151\n",
              "1  condo/townhome/row home/co-op     16"
            ]
          },
          "execution_count": 34,
          "metadata": {},
          "output_type": "execute_result"
        }
      ],
      "source": [
        "temp_data[mask_null].groupby(['property_type'], as_index=False)['baths'].count().sort_values('baths', ascending=False)"
      ]
    },
    {
      "cell_type": "code",
      "execution_count": 35,
      "metadata": {
        "colab": {
          "background_save": true,
          "base_uri": "https://localhost:8080/",
          "height": 517
        },
        "id": "a7N9gbpGZ8UV",
        "outputId": "79ca98ed-feb0-4a5c-84c3-3fc403082bda"
      },
      "outputs": [],
      "source": [
        "fig = px.bar(\n",
        "    data_frame=temp_data[mask_null].groupby(['property_type'], as_index=False)['baths'].count(),\n",
        "    x='property_type',\n",
        "    y='baths',\n",
        "    title='Count of baths by property_type',\n",
        "    width=700,\n",
        "    height=500\n",
        "    )\n",
        "#fig.show('')"
      ]
    },
    {
      "cell_type": "markdown",
      "metadata": {},
      "source": [
        "<image src=\".\\images\\box_type.png\">"
      ]
    },
    {
      "cell_type": "markdown",
      "metadata": {},
      "source": []
    },
    {
      "cell_type": "markdown",
      "metadata": {
        "id": "8dR9lOpl3UbN"
      },
      "source": [
        "Из графика можем сделать вывод, что большее число нулевых значений принадлежит типу other, так как нам неизвестно какие типы объектов принадлежат этой группе, мы их удалим и оставим нулевые значения только для земельных участков."
      ]
    },
    {
      "cell_type": "code",
      "execution_count": 36,
      "metadata": {
        "colab": {
          "background_save": true
        },
        "id": "mz3zVZ6nvb6o"
      },
      "outputs": [],
      "source": [
        "# удалим нулевые значения baths, отфильтровав по типу объекта, оставим нулевые значения только земельным участкам\n",
        "type_null_baths=(temp_data['baths']==0)&(temp_data['property_type']!='lot/land')&(temp_data['beds']==0)\n",
        "temp_data = temp_data[~type_null_baths]"
      ]
    },
    {
      "cell_type": "code",
      "execution_count": 37,
      "metadata": {
        "colab": {
          "background_save": true,
          "base_uri": "https://localhost:8080/",
          "height": 517
        },
        "id": "7m_KkIrs_NBE",
        "outputId": "036255eb-be0d-471e-8714-06f362e243ff"
      },
      "outputs": [],
      "source": [
        "fig = px.scatter(\n",
        "    data_frame=temp_data,\n",
        "    x='baths',\n",
        "    y='beds',\n",
        "    title='Distribution of baths by beds',\n",
        "    width=700,\n",
        "    height=500\n",
        "    )\n",
        "#fig.show('')"
      ]
    },
    {
      "cell_type": "markdown",
      "metadata": {},
      "source": [
        "<image src=\".\\images\\baths_beds.png\">"
      ]
    },
    {
      "cell_type": "code",
      "execution_count": 38,
      "metadata": {
        "colab": {
          "background_save": true
        },
        "id": "QIXoVTdVN37U"
      },
      "outputs": [],
      "source": [
        "#заменим пустые значения спален количеством ванных комнат, округленных в большую сторону\n",
        "temp_data['beds'] = temp_data['beds'].where(temp_data['beds']!=0, np.ceil(temp_data['baths']))\n",
        "#заменим пустые значения спален количеством ванных комнат, округленных в большую сторону\n",
        "temp_data['baths'] = temp_data['baths'].where(temp_data['baths']!=0, np.ceil(temp_data['beds']))"
      ]
    },
    {
      "cell_type": "code",
      "execution_count": 39,
      "metadata": {
        "colab": {
          "background_save": true,
          "base_uri": "https://localhost:8080/"
        },
        "id": "Rc6mMoodChhG",
        "outputId": "c4dde786-0cc8-477f-986d-9553ea90d4d9"
      },
      "outputs": [
        {
          "name": "stdout",
          "output_type": "stream",
          "text": [
            "Количество удаленных строк 50871, % от общего числа 15.33%\n"
          ]
        }
      ],
      "source": [
        "len_2=temp_data.shape[0]\n",
        "print(f'Количество удаленных строк {len_1-len_2}, % от общего числа {(len_1-len_2)/len_1*100:.2f}%')"
      ]
    },
    {
      "cell_type": "code",
      "execution_count": 40,
      "metadata": {
        "colab": {
          "background_save": true,
          "base_uri": "https://localhost:8080/",
          "height": 175
        },
        "id": "iWnxNHXcwezE",
        "outputId": "da44dcbf-c961-481d-deb7-c12934502373"
      },
      "outputs": [
        {
          "data": {
            "text/html": [
              "<div>\n",
              "<style scoped>\n",
              "    .dataframe tbody tr th:only-of-type {\n",
              "        vertical-align: middle;\n",
              "    }\n",
              "\n",
              "    .dataframe tbody tr th {\n",
              "        vertical-align: top;\n",
              "    }\n",
              "\n",
              "    .dataframe thead th {\n",
              "        text-align: right;\n",
              "    }\n",
              "</style>\n",
              "<table border=\"1\" class=\"dataframe\">\n",
              "  <thead>\n",
              "    <tr style=\"text-align: right;\">\n",
              "      <th></th>\n",
              "      <th>baths</th>\n",
              "      <th>beds</th>\n",
              "      <th>sqft</th>\n",
              "      <th>target</th>\n",
              "    </tr>\n",
              "  </thead>\n",
              "  <tbody>\n",
              "    <tr>\n",
              "      <th>baths</th>\n",
              "      <td>1.000000</td>\n",
              "      <td>0.728174</td>\n",
              "      <td>0.075389</td>\n",
              "      <td>0.507108</td>\n",
              "    </tr>\n",
              "    <tr>\n",
              "      <th>beds</th>\n",
              "      <td>0.728174</td>\n",
              "      <td>1.000000</td>\n",
              "      <td>-0.022368</td>\n",
              "      <td>0.301513</td>\n",
              "    </tr>\n",
              "    <tr>\n",
              "      <th>sqft</th>\n",
              "      <td>0.075389</td>\n",
              "      <td>-0.022368</td>\n",
              "      <td>1.000000</td>\n",
              "      <td>0.189442</td>\n",
              "    </tr>\n",
              "    <tr>\n",
              "      <th>target</th>\n",
              "      <td>0.507108</td>\n",
              "      <td>0.301513</td>\n",
              "      <td>0.189442</td>\n",
              "      <td>1.000000</td>\n",
              "    </tr>\n",
              "  </tbody>\n",
              "</table>\n",
              "</div>"
            ],
            "text/plain": [
              "           baths      beds      sqft    target\n",
              "baths   1.000000  0.728174  0.075389  0.507108\n",
              "beds    0.728174  1.000000 -0.022368  0.301513\n",
              "sqft    0.075389 -0.022368  1.000000  0.189442\n",
              "target  0.507108  0.301513  0.189442  1.000000"
            ]
          },
          "execution_count": 40,
          "metadata": {},
          "output_type": "execute_result"
        }
      ],
      "source": [
        "#  построим матрицу корреляций\n",
        "corr_matrix=temp_data[['baths','beds', 'sqft', 'target']].corr()\n",
        "corr_matrix"
      ]
    },
    {
      "cell_type": "code",
      "execution_count": 41,
      "metadata": {
        "colab": {
          "background_save": true,
          "base_uri": "https://localhost:8080/",
          "height": 435
        },
        "id": "-PcL0iDb1j0F",
        "outputId": "9083af5e-f19b-4dc0-ca65-d23972baaef6"
      },
      "outputs": [
        {
          "data": {
            "image/png": "[encoded data removed]",
            "text/plain": [
              "<Figure size 640x480 with 2 Axes>"
            ]
          },
          "metadata": {},
          "output_type": "display_data"
        }
      ],
      "source": [
        "sns.heatmap(corr_matrix, annot=True);"
      ]
    },
    {
      "cell_type": "code",
      "execution_count": 42,
      "metadata": {},
      "outputs": [],
      "source": [
        "temp_data.to_csv('temp_data_2.csv',index=False)"
      ]
    }
  ],
  "metadata": {
    "colab": {
      "provenance": [],
      "toc_visible": true
    },
    "kernelspec": {
      "display_name": "Python 3",
      "name": "python3"
    },
    "language_info": {
      "codemirror_mode": {
        "name": "ipython",
        "version": 3
      },
      "file_extension": ".py",
      "mimetype": "text/x-python",
      "name": "python",
      "nbconvert_exporter": "python",
      "pygments_lexer": "ipython3",
      "version": "3.9.10"
    }
  },
  "nbformat": 4,
  "nbformat_minor": 0
}
